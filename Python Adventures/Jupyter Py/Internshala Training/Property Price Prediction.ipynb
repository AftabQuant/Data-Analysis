{
 "cells": [
  {
   "cell_type": "code",
   "execution_count": 25,
   "id": "549aee91-1f91-4364-b494-401772f30450",
   "metadata": {},
   "outputs": [],
   "source": [
    "import pandas as pd\n",
    "import numpy as np"
   ]
  },
  {
   "cell_type": "code",
   "execution_count": 2,
   "id": "7df2c0ac-2636-4243-9bdc-63439aeed674",
   "metadata": {},
   "outputs": [],
   "source": [
    "df = pd.read_csv(\"D:\\\\Ultimate Programming\\\\Data Bases\\\\railway_data.csv\")"
   ]
  },
  {
   "cell_type": "code",
   "execution_count": 3,
   "id": "f6d28627-6e1a-49aa-9977-fe10e7e132d3",
   "metadata": {},
   "outputs": [
    {
     "data": {
      "text/html": [
       "<div>\n",
       "<style scoped>\n",
       "    .dataframe tbody tr th:only-of-type {\n",
       "        vertical-align: middle;\n",
       "    }\n",
       "\n",
       "    .dataframe tbody tr th {\n",
       "        vertical-align: top;\n",
       "    }\n",
       "\n",
       "    .dataframe thead th {\n",
       "        text-align: right;\n",
       "    }\n",
       "</style>\n",
       "<table border=\"1\" class=\"dataframe\">\n",
       "  <thead>\n",
       "    <tr style=\"text-align: right;\">\n",
       "      <th></th>\n",
       "      <th>Transaction ID</th>\n",
       "      <th>Date of Purchase</th>\n",
       "      <th>Time of Purchase</th>\n",
       "      <th>Purchase Type</th>\n",
       "      <th>Payment Method</th>\n",
       "      <th>Railcard</th>\n",
       "      <th>Ticket Class</th>\n",
       "      <th>Ticket Type</th>\n",
       "      <th>Price</th>\n",
       "      <th>Departure Station</th>\n",
       "      <th>Arrival Destination</th>\n",
       "      <th>Date of Journey</th>\n",
       "      <th>Departure Time</th>\n",
       "      <th>Arrival Time</th>\n",
       "      <th>Actual Arrival Time</th>\n",
       "      <th>Journey Status</th>\n",
       "      <th>Reason for Delay</th>\n",
       "      <th>Refund Request</th>\n",
       "    </tr>\n",
       "  </thead>\n",
       "  <tbody>\n",
       "    <tr>\n",
       "      <th>0</th>\n",
       "      <td>da8a6ba8-b3dc-4677-b176</td>\n",
       "      <td>2023-12-08</td>\n",
       "      <td>12:41:11</td>\n",
       "      <td>Online</td>\n",
       "      <td>Contactless</td>\n",
       "      <td>Adult</td>\n",
       "      <td>Standard</td>\n",
       "      <td>Advance</td>\n",
       "      <td>43</td>\n",
       "      <td>London Paddington</td>\n",
       "      <td>Liverpool Lime Street</td>\n",
       "      <td>2024-01-01</td>\n",
       "      <td>11:00:00</td>\n",
       "      <td>13:30:00</td>\n",
       "      <td>13:30:00</td>\n",
       "      <td>On Time</td>\n",
       "      <td>NaN</td>\n",
       "      <td>No</td>\n",
       "    </tr>\n",
       "    <tr>\n",
       "      <th>1</th>\n",
       "      <td>b0cdd1b0-f214-4197-be53</td>\n",
       "      <td>2023-12-16</td>\n",
       "      <td>11:23:01</td>\n",
       "      <td>Station</td>\n",
       "      <td>Credit Card</td>\n",
       "      <td>Adult</td>\n",
       "      <td>Standard</td>\n",
       "      <td>Advance</td>\n",
       "      <td>23</td>\n",
       "      <td>London Kings Cross</td>\n",
       "      <td>York</td>\n",
       "      <td>2024-01-01</td>\n",
       "      <td>09:45:00</td>\n",
       "      <td>11:35:00</td>\n",
       "      <td>11:40:00</td>\n",
       "      <td>Delayed</td>\n",
       "      <td>Signal Failure</td>\n",
       "      <td>No</td>\n",
       "    </tr>\n",
       "    <tr>\n",
       "      <th>2</th>\n",
       "      <td>f3ba7a96-f713-40d9-9629</td>\n",
       "      <td>2023-12-19</td>\n",
       "      <td>19:51:27</td>\n",
       "      <td>Online</td>\n",
       "      <td>Credit Card</td>\n",
       "      <td>NaN</td>\n",
       "      <td>Standard</td>\n",
       "      <td>Advance</td>\n",
       "      <td>3</td>\n",
       "      <td>Liverpool Lime Street</td>\n",
       "      <td>Manchester Piccadilly</td>\n",
       "      <td>2024-01-02</td>\n",
       "      <td>18:15:00</td>\n",
       "      <td>18:45:00</td>\n",
       "      <td>18:45:00</td>\n",
       "      <td>On Time</td>\n",
       "      <td>NaN</td>\n",
       "      <td>No</td>\n",
       "    </tr>\n",
       "    <tr>\n",
       "      <th>3</th>\n",
       "      <td>b2471f11-4fe7-4c87-8ab4</td>\n",
       "      <td>2023-12-20</td>\n",
       "      <td>23:00:36</td>\n",
       "      <td>Station</td>\n",
       "      <td>Credit Card</td>\n",
       "      <td>NaN</td>\n",
       "      <td>Standard</td>\n",
       "      <td>Advance</td>\n",
       "      <td>13</td>\n",
       "      <td>London Paddington</td>\n",
       "      <td>Reading</td>\n",
       "      <td>2024-01-01</td>\n",
       "      <td>21:30:00</td>\n",
       "      <td>22:30:00</td>\n",
       "      <td>22:30:00</td>\n",
       "      <td>On Time</td>\n",
       "      <td>NaN</td>\n",
       "      <td>No</td>\n",
       "    </tr>\n",
       "    <tr>\n",
       "      <th>4</th>\n",
       "      <td>2be00b45-0762-485e-a7a3</td>\n",
       "      <td>2023-12-27</td>\n",
       "      <td>18:22:56</td>\n",
       "      <td>Online</td>\n",
       "      <td>Contactless</td>\n",
       "      <td>NaN</td>\n",
       "      <td>Standard</td>\n",
       "      <td>Advance</td>\n",
       "      <td>76</td>\n",
       "      <td>Liverpool Lime Street</td>\n",
       "      <td>London Euston</td>\n",
       "      <td>2024-01-01</td>\n",
       "      <td>16:45:00</td>\n",
       "      <td>19:00:00</td>\n",
       "      <td>19:00:00</td>\n",
       "      <td>On Time</td>\n",
       "      <td>NaN</td>\n",
       "      <td>No</td>\n",
       "    </tr>\n",
       "  </tbody>\n",
       "</table>\n",
       "</div>"
      ],
      "text/plain": [
       "            Transaction ID Date of Purchase Time of Purchase Purchase Type  \\\n",
       "0  da8a6ba8-b3dc-4677-b176       2023-12-08         12:41:11        Online   \n",
       "1  b0cdd1b0-f214-4197-be53       2023-12-16         11:23:01       Station   \n",
       "2  f3ba7a96-f713-40d9-9629       2023-12-19         19:51:27        Online   \n",
       "3  b2471f11-4fe7-4c87-8ab4       2023-12-20         23:00:36       Station   \n",
       "4  2be00b45-0762-485e-a7a3       2023-12-27         18:22:56        Online   \n",
       "\n",
       "  Payment Method Railcard Ticket Class Ticket Type  Price  \\\n",
       "0    Contactless    Adult     Standard     Advance     43   \n",
       "1    Credit Card    Adult     Standard     Advance     23   \n",
       "2    Credit Card      NaN     Standard     Advance      3   \n",
       "3    Credit Card      NaN     Standard     Advance     13   \n",
       "4    Contactless      NaN     Standard     Advance     76   \n",
       "\n",
       "       Departure Station    Arrival Destination Date of Journey  \\\n",
       "0      London Paddington  Liverpool Lime Street      2024-01-01   \n",
       "1     London Kings Cross                   York      2024-01-01   \n",
       "2  Liverpool Lime Street  Manchester Piccadilly      2024-01-02   \n",
       "3      London Paddington                Reading      2024-01-01   \n",
       "4  Liverpool Lime Street          London Euston      2024-01-01   \n",
       "\n",
       "  Departure Time Arrival Time Actual Arrival Time Journey Status  \\\n",
       "0       11:00:00     13:30:00            13:30:00        On Time   \n",
       "1       09:45:00     11:35:00            11:40:00        Delayed   \n",
       "2       18:15:00     18:45:00            18:45:00        On Time   \n",
       "3       21:30:00     22:30:00            22:30:00        On Time   \n",
       "4       16:45:00     19:00:00            19:00:00        On Time   \n",
       "\n",
       "  Reason for Delay Refund Request  \n",
       "0              NaN             No  \n",
       "1   Signal Failure             No  \n",
       "2              NaN             No  \n",
       "3              NaN             No  \n",
       "4              NaN             No  "
      ]
     },
     "execution_count": 3,
     "metadata": {},
     "output_type": "execute_result"
    }
   ],
   "source": [
    "df.head()"
   ]
  },
  {
   "cell_type": "code",
   "execution_count": 4,
   "id": "b19cbdb5-edd6-4c94-991d-db7e346ae5e0",
   "metadata": {},
   "outputs": [
    {
     "name": "stdout",
     "output_type": "stream",
     "text": [
      "<class 'pandas.core.frame.DataFrame'>\n",
      "RangeIndex: 31653 entries, 0 to 31652\n",
      "Data columns (total 18 columns):\n",
      " #   Column               Non-Null Count  Dtype \n",
      "---  ------               --------------  ----- \n",
      " 0   Transaction ID       31653 non-null  object\n",
      " 1   Date of Purchase     31653 non-null  object\n",
      " 2   Time of Purchase     31653 non-null  object\n",
      " 3   Purchase Type        31653 non-null  object\n",
      " 4   Payment Method       31653 non-null  object\n",
      " 5   Railcard             10735 non-null  object\n",
      " 6   Ticket Class         31653 non-null  object\n",
      " 7   Ticket Type          31653 non-null  object\n",
      " 8   Price                31653 non-null  int64 \n",
      " 9   Departure Station    31653 non-null  object\n",
      " 10  Arrival Destination  31653 non-null  object\n",
      " 11  Date of Journey      31653 non-null  object\n",
      " 12  Departure Time       31653 non-null  object\n",
      " 13  Arrival Time         31653 non-null  object\n",
      " 14  Actual Arrival Time  29773 non-null  object\n",
      " 15  Journey Status       31653 non-null  object\n",
      " 16  Reason for Delay     4172 non-null   object\n",
      " 17  Refund Request       31653 non-null  object\n",
      "dtypes: int64(1), object(17)\n",
      "memory usage: 4.3+ MB\n"
     ]
    }
   ],
   "source": [
    "df.info()"
   ]
  },
  {
   "cell_type": "code",
   "execution_count": 7,
   "id": "09047791-3d36-4e06-bc81-00d5ac95821e",
   "metadata": {},
   "outputs": [
    {
     "data": {
      "text/plain": [
       "Transaction ID         object\n",
       "Date of Purchase       object\n",
       "Time of Purchase       object\n",
       "Purchase Type          object\n",
       "Payment Method         object\n",
       "Railcard               object\n",
       "Ticket Class           object\n",
       "Ticket Type            object\n",
       "Price                   int64\n",
       "Departure Station      object\n",
       "Arrival Destination    object\n",
       "Date of Journey        object\n",
       "Departure Time         object\n",
       "Arrival Time           object\n",
       "Actual Arrival Time    object\n",
       "Journey Status         object\n",
       "Reason for Delay       object\n",
       "Refund Request         object\n",
       "dtype: object"
      ]
     },
     "execution_count": 7,
     "metadata": {},
     "output_type": "execute_result"
    }
   ],
   "source": [
    "df.dtypes"
   ]
  },
  {
   "cell_type": "code",
   "execution_count": 8,
   "id": "88ebf7af-75df-4580-8adf-2c74525ffcff",
   "metadata": {},
   "outputs": [
    {
     "data": {
      "text/plain": [
       "np.int64(0)"
      ]
     },
     "execution_count": 8,
     "metadata": {},
     "output_type": "execute_result"
    }
   ],
   "source": [
    "df['Transaction ID'].duplicated().sum()"
   ]
  },
  {
   "cell_type": "code",
   "execution_count": 14,
   "id": "5812ba8a-46da-4501-8875-c1e8c4f7fced",
   "metadata": {},
   "outputs": [],
   "source": [
    "df['Date of Purchase'] = pd.to_datetime(df['Date of Purchase'], format = '%Y-%m-%d')"
   ]
  },
  {
   "cell_type": "code",
   "execution_count": 21,
   "id": "1ad6cc68-29f0-4167-840c-a5ef165ba76b",
   "metadata": {},
   "outputs": [],
   "source": [
    "df['Time of Purchase'] = pd.to_datetime(df['Time of Purchase'], format = '%H:%M:%S')"
   ]
  },
  {
   "cell_type": "code",
   "execution_count": 22,
   "id": "5284c7e6-5414-489b-9bff-7ee559ee1115",
   "metadata": {},
   "outputs": [
    {
     "name": "stdout",
     "output_type": "stream",
     "text": [
      "<class 'pandas.core.frame.DataFrame'>\n",
      "RangeIndex: 31653 entries, 0 to 31652\n",
      "Data columns (total 18 columns):\n",
      " #   Column               Non-Null Count  Dtype         \n",
      "---  ------               --------------  -----         \n",
      " 0   Transaction ID       31653 non-null  object        \n",
      " 1   Date of Purchase     31653 non-null  datetime64[ns]\n",
      " 2   Time of Purchase     31653 non-null  datetime64[ns]\n",
      " 3   Purchase Type        31653 non-null  object        \n",
      " 4   Payment Method       31653 non-null  object        \n",
      " 5   Railcard             10735 non-null  object        \n",
      " 6   Ticket Class         31653 non-null  object        \n",
      " 7   Ticket Type          31653 non-null  object        \n",
      " 8   Price                31653 non-null  int64         \n",
      " 9   Departure Station    31653 non-null  object        \n",
      " 10  Arrival Destination  31653 non-null  object        \n",
      " 11  Date of Journey      31653 non-null  datetime64[ns]\n",
      " 12  Departure Time       31653 non-null  object        \n",
      " 13  Arrival Time         31653 non-null  object        \n",
      " 14  Actual Arrival Time  29773 non-null  object        \n",
      " 15  Journey Status       31653 non-null  object        \n",
      " 16  Reason for Delay     4172 non-null   object        \n",
      " 17  Refund Request       31653 non-null  object        \n",
      "dtypes: datetime64[ns](3), int64(1), object(14)\n",
      "memory usage: 4.3+ MB\n"
     ]
    }
   ],
   "source": [
    "df.info()"
   ]
  },
  {
   "cell_type": "code",
   "execution_count": 23,
   "id": "5076b56f-1e3f-4da3-8fe9-7937d12a0eb8",
   "metadata": {},
   "outputs": [],
   "source": [
    "df['Date of Journey'] = pd.to_datetime(df['Date of Journey'], format = '%Y-%m-%d')"
   ]
  },
  {
   "cell_type": "code",
   "execution_count": 24,
   "id": "1a327378-7df3-49d8-9da4-f42056e33f72",
   "metadata": {},
   "outputs": [
    {
     "data": {
      "text/html": [
       "<div>\n",
       "<style scoped>\n",
       "    .dataframe tbody tr th:only-of-type {\n",
       "        vertical-align: middle;\n",
       "    }\n",
       "\n",
       "    .dataframe tbody tr th {\n",
       "        vertical-align: top;\n",
       "    }\n",
       "\n",
       "    .dataframe thead th {\n",
       "        text-align: right;\n",
       "    }\n",
       "</style>\n",
       "<table border=\"1\" class=\"dataframe\">\n",
       "  <thead>\n",
       "    <tr style=\"text-align: right;\">\n",
       "      <th></th>\n",
       "      <th>Transaction ID</th>\n",
       "      <th>Date of Purchase</th>\n",
       "      <th>Time of Purchase</th>\n",
       "      <th>Purchase Type</th>\n",
       "      <th>Payment Method</th>\n",
       "      <th>Railcard</th>\n",
       "      <th>Ticket Class</th>\n",
       "      <th>Ticket Type</th>\n",
       "      <th>Price</th>\n",
       "      <th>Departure Station</th>\n",
       "      <th>Arrival Destination</th>\n",
       "      <th>Date of Journey</th>\n",
       "      <th>Departure Time</th>\n",
       "      <th>Arrival Time</th>\n",
       "      <th>Actual Arrival Time</th>\n",
       "      <th>Journey Status</th>\n",
       "      <th>Reason for Delay</th>\n",
       "      <th>Refund Request</th>\n",
       "    </tr>\n",
       "  </thead>\n",
       "  <tbody>\n",
       "    <tr>\n",
       "      <th>0</th>\n",
       "      <td>da8a6ba8-b3dc-4677-b176</td>\n",
       "      <td>2023-12-08</td>\n",
       "      <td>1900-01-01 12:41:11</td>\n",
       "      <td>Online</td>\n",
       "      <td>Contactless</td>\n",
       "      <td>Adult</td>\n",
       "      <td>Standard</td>\n",
       "      <td>Advance</td>\n",
       "      <td>43</td>\n",
       "      <td>London Paddington</td>\n",
       "      <td>Liverpool Lime Street</td>\n",
       "      <td>2024-01-01</td>\n",
       "      <td>11:00:00</td>\n",
       "      <td>13:30:00</td>\n",
       "      <td>13:30:00</td>\n",
       "      <td>On Time</td>\n",
       "      <td>NaN</td>\n",
       "      <td>No</td>\n",
       "    </tr>\n",
       "  </tbody>\n",
       "</table>\n",
       "</div>"
      ],
      "text/plain": [
       "            Transaction ID Date of Purchase    Time of Purchase Purchase Type  \\\n",
       "0  da8a6ba8-b3dc-4677-b176       2023-12-08 1900-01-01 12:41:11        Online   \n",
       "\n",
       "  Payment Method Railcard Ticket Class Ticket Type  Price  Departure Station  \\\n",
       "0    Contactless    Adult     Standard     Advance     43  London Paddington   \n",
       "\n",
       "     Arrival Destination Date of Journey Departure Time Arrival Time  \\\n",
       "0  Liverpool Lime Street      2024-01-01       11:00:00     13:30:00   \n",
       "\n",
       "  Actual Arrival Time Journey Status Reason for Delay Refund Request  \n",
       "0            13:30:00        On Time              NaN             No  "
      ]
     },
     "execution_count": 24,
     "metadata": {},
     "output_type": "execute_result"
    }
   ],
   "source": [
    "df.head(1)"
   ]
  },
  {
   "cell_type": "code",
   "execution_count": 28,
   "id": "a6c46a6b-5f8a-46f7-92ac-91465cd3fe62",
   "metadata": {},
   "outputs": [],
   "source": [
    "df['Reason for Delay'] = df['Reason for Delay'].fillna(\"No Delay\")"
   ]
  },
  {
   "cell_type": "code",
   "execution_count": 29,
   "id": "87c5dfbe-2558-4128-911e-e3d28b2548f1",
   "metadata": {},
   "outputs": [
    {
     "data": {
      "text/html": [
       "<div>\n",
       "<style scoped>\n",
       "    .dataframe tbody tr th:only-of-type {\n",
       "        vertical-align: middle;\n",
       "    }\n",
       "\n",
       "    .dataframe tbody tr th {\n",
       "        vertical-align: top;\n",
       "    }\n",
       "\n",
       "    .dataframe thead th {\n",
       "        text-align: right;\n",
       "    }\n",
       "</style>\n",
       "<table border=\"1\" class=\"dataframe\">\n",
       "  <thead>\n",
       "    <tr style=\"text-align: right;\">\n",
       "      <th></th>\n",
       "      <th>Transaction ID</th>\n",
       "      <th>Date of Purchase</th>\n",
       "      <th>Time of Purchase</th>\n",
       "      <th>Purchase Type</th>\n",
       "      <th>Payment Method</th>\n",
       "      <th>Railcard</th>\n",
       "      <th>Ticket Class</th>\n",
       "      <th>Ticket Type</th>\n",
       "      <th>Price</th>\n",
       "      <th>Departure Station</th>\n",
       "      <th>Arrival Destination</th>\n",
       "      <th>Date of Journey</th>\n",
       "      <th>Departure Time</th>\n",
       "      <th>Arrival Time</th>\n",
       "      <th>Actual Arrival Time</th>\n",
       "      <th>Journey Status</th>\n",
       "      <th>Reason for Delay</th>\n",
       "      <th>Refund Request</th>\n",
       "    </tr>\n",
       "  </thead>\n",
       "  <tbody>\n",
       "    <tr>\n",
       "      <th>0</th>\n",
       "      <td>da8a6ba8-b3dc-4677-b176</td>\n",
       "      <td>2023-12-08</td>\n",
       "      <td>1900-01-01 12:41:11</td>\n",
       "      <td>Online</td>\n",
       "      <td>Contactless</td>\n",
       "      <td>Adult</td>\n",
       "      <td>Standard</td>\n",
       "      <td>Advance</td>\n",
       "      <td>43</td>\n",
       "      <td>London Paddington</td>\n",
       "      <td>Liverpool Lime Street</td>\n",
       "      <td>2024-01-01</td>\n",
       "      <td>11:00:00</td>\n",
       "      <td>13:30:00</td>\n",
       "      <td>13:30:00</td>\n",
       "      <td>On Time</td>\n",
       "      <td>No Delay</td>\n",
       "      <td>No</td>\n",
       "    </tr>\n",
       "    <tr>\n",
       "      <th>1</th>\n",
       "      <td>b0cdd1b0-f214-4197-be53</td>\n",
       "      <td>2023-12-16</td>\n",
       "      <td>1900-01-01 11:23:01</td>\n",
       "      <td>Station</td>\n",
       "      <td>Credit Card</td>\n",
       "      <td>Adult</td>\n",
       "      <td>Standard</td>\n",
       "      <td>Advance</td>\n",
       "      <td>23</td>\n",
       "      <td>London Kings Cross</td>\n",
       "      <td>York</td>\n",
       "      <td>2024-01-01</td>\n",
       "      <td>09:45:00</td>\n",
       "      <td>11:35:00</td>\n",
       "      <td>11:40:00</td>\n",
       "      <td>Delayed</td>\n",
       "      <td>Signal Failure</td>\n",
       "      <td>No</td>\n",
       "    </tr>\n",
       "    <tr>\n",
       "      <th>2</th>\n",
       "      <td>f3ba7a96-f713-40d9-9629</td>\n",
       "      <td>2023-12-19</td>\n",
       "      <td>1900-01-01 19:51:27</td>\n",
       "      <td>Online</td>\n",
       "      <td>Credit Card</td>\n",
       "      <td>NaN</td>\n",
       "      <td>Standard</td>\n",
       "      <td>Advance</td>\n",
       "      <td>3</td>\n",
       "      <td>Liverpool Lime Street</td>\n",
       "      <td>Manchester Piccadilly</td>\n",
       "      <td>2024-01-02</td>\n",
       "      <td>18:15:00</td>\n",
       "      <td>18:45:00</td>\n",
       "      <td>18:45:00</td>\n",
       "      <td>On Time</td>\n",
       "      <td>No Delay</td>\n",
       "      <td>No</td>\n",
       "    </tr>\n",
       "  </tbody>\n",
       "</table>\n",
       "</div>"
      ],
      "text/plain": [
       "            Transaction ID Date of Purchase    Time of Purchase Purchase Type  \\\n",
       "0  da8a6ba8-b3dc-4677-b176       2023-12-08 1900-01-01 12:41:11        Online   \n",
       "1  b0cdd1b0-f214-4197-be53       2023-12-16 1900-01-01 11:23:01       Station   \n",
       "2  f3ba7a96-f713-40d9-9629       2023-12-19 1900-01-01 19:51:27        Online   \n",
       "\n",
       "  Payment Method Railcard Ticket Class Ticket Type  Price  \\\n",
       "0    Contactless    Adult     Standard     Advance     43   \n",
       "1    Credit Card    Adult     Standard     Advance     23   \n",
       "2    Credit Card      NaN     Standard     Advance      3   \n",
       "\n",
       "       Departure Station    Arrival Destination Date of Journey  \\\n",
       "0      London Paddington  Liverpool Lime Street      2024-01-01   \n",
       "1     London Kings Cross                   York      2024-01-01   \n",
       "2  Liverpool Lime Street  Manchester Piccadilly      2024-01-02   \n",
       "\n",
       "  Departure Time Arrival Time Actual Arrival Time Journey Status  \\\n",
       "0       11:00:00     13:30:00            13:30:00        On Time   \n",
       "1       09:45:00     11:35:00            11:40:00        Delayed   \n",
       "2       18:15:00     18:45:00            18:45:00        On Time   \n",
       "\n",
       "  Reason for Delay Refund Request  \n",
       "0         No Delay             No  \n",
       "1   Signal Failure             No  \n",
       "2         No Delay             No  "
      ]
     },
     "execution_count": 29,
     "metadata": {},
     "output_type": "execute_result"
    }
   ],
   "source": [
    "df.head(3)"
   ]
  },
  {
   "cell_type": "code",
   "execution_count": 30,
   "id": "347f3e34-05aa-4521-a281-44c7bab51ec8",
   "metadata": {},
   "outputs": [
    {
     "name": "stdout",
     "output_type": "stream",
     "text": [
      "<class 'pandas.core.frame.DataFrame'>\n",
      "RangeIndex: 31653 entries, 0 to 31652\n",
      "Data columns (total 18 columns):\n",
      " #   Column               Non-Null Count  Dtype         \n",
      "---  ------               --------------  -----         \n",
      " 0   Transaction ID       31653 non-null  object        \n",
      " 1   Date of Purchase     31653 non-null  datetime64[ns]\n",
      " 2   Time of Purchase     31653 non-null  datetime64[ns]\n",
      " 3   Purchase Type        31653 non-null  object        \n",
      " 4   Payment Method       31653 non-null  object        \n",
      " 5   Railcard             10735 non-null  object        \n",
      " 6   Ticket Class         31653 non-null  object        \n",
      " 7   Ticket Type          31653 non-null  object        \n",
      " 8   Price                31653 non-null  int64         \n",
      " 9   Departure Station    31653 non-null  object        \n",
      " 10  Arrival Destination  31653 non-null  object        \n",
      " 11  Date of Journey      31653 non-null  datetime64[ns]\n",
      " 12  Departure Time       31653 non-null  object        \n",
      " 13  Arrival Time         31653 non-null  object        \n",
      " 14  Actual Arrival Time  29773 non-null  object        \n",
      " 15  Journey Status       31653 non-null  object        \n",
      " 16  Reason for Delay     31653 non-null  object        \n",
      " 17  Refund Request       31653 non-null  object        \n",
      "dtypes: datetime64[ns](3), int64(1), object(14)\n",
      "memory usage: 4.3+ MB\n"
     ]
    }
   ],
   "source": [
    "df.info()"
   ]
  },
  {
   "cell_type": "code",
   "execution_count": 31,
   "id": "121fad70-20ba-402b-af37-98b8e349d509",
   "metadata": {},
   "outputs": [],
   "source": [
    "df['Actual Arrival Time'] = df['Actual Arrival Time'].fillna(\"Cancelled\")"
   ]
  },
  {
   "cell_type": "code",
   "execution_count": 32,
   "id": "d35338a2-f48e-4d91-940d-07ff01ad254e",
   "metadata": {},
   "outputs": [
    {
     "name": "stdout",
     "output_type": "stream",
     "text": [
      "<class 'pandas.core.frame.DataFrame'>\n",
      "RangeIndex: 31653 entries, 0 to 31652\n",
      "Data columns (total 18 columns):\n",
      " #   Column               Non-Null Count  Dtype         \n",
      "---  ------               --------------  -----         \n",
      " 0   Transaction ID       31653 non-null  object        \n",
      " 1   Date of Purchase     31653 non-null  datetime64[ns]\n",
      " 2   Time of Purchase     31653 non-null  datetime64[ns]\n",
      " 3   Purchase Type        31653 non-null  object        \n",
      " 4   Payment Method       31653 non-null  object        \n",
      " 5   Railcard             10735 non-null  object        \n",
      " 6   Ticket Class         31653 non-null  object        \n",
      " 7   Ticket Type          31653 non-null  object        \n",
      " 8   Price                31653 non-null  int64         \n",
      " 9   Departure Station    31653 non-null  object        \n",
      " 10  Arrival Destination  31653 non-null  object        \n",
      " 11  Date of Journey      31653 non-null  datetime64[ns]\n",
      " 12  Departure Time       31653 non-null  object        \n",
      " 13  Arrival Time         31653 non-null  object        \n",
      " 14  Actual Arrival Time  31653 non-null  object        \n",
      " 15  Journey Status       31653 non-null  object        \n",
      " 16  Reason for Delay     31653 non-null  object        \n",
      " 17  Refund Request       31653 non-null  object        \n",
      "dtypes: datetime64[ns](3), int64(1), object(14)\n",
      "memory usage: 4.3+ MB\n"
     ]
    }
   ],
   "source": [
    "df.info()"
   ]
  },
  {
   "cell_type": "code",
   "execution_count": 34,
   "id": "a9a4fd87-9707-471e-b713-7e87003160e5",
   "metadata": {},
   "outputs": [
    {
     "data": {
      "text/plain": [
       "Purchase Type\n",
       "Online     18521\n",
       "Station    13132\n",
       "Name: Transaction ID, dtype: int64"
      ]
     },
     "execution_count": 34,
     "metadata": {},
     "output_type": "execute_result"
    }
   ],
   "source": [
    "gp_purType = df.groupby('Purchase Type')['Transaction ID'].count()\n",
    "gp_purType"
   ]
  },
  {
   "cell_type": "code",
   "execution_count": 35,
   "id": "ecc7033a-8a20-4ef9-931b-d7fa5a88d9a5",
   "metadata": {},
   "outputs": [],
   "source": [
    "df['Railcard'] = df['Railcard'].fillna(\"No Card\")"
   ]
  },
  {
   "cell_type": "code",
   "execution_count": 38,
   "id": "99714950-a5b3-4777-b283-dcc34a678273",
   "metadata": {},
   "outputs": [
    {
     "data": {
      "text/html": [
       "<div>\n",
       "<style scoped>\n",
       "    .dataframe tbody tr th:only-of-type {\n",
       "        vertical-align: middle;\n",
       "    }\n",
       "\n",
       "    .dataframe tbody tr th {\n",
       "        vertical-align: top;\n",
       "    }\n",
       "\n",
       "    .dataframe thead th {\n",
       "        text-align: right;\n",
       "    }\n",
       "</style>\n",
       "<table border=\"1\" class=\"dataframe\">\n",
       "  <thead>\n",
       "    <tr style=\"text-align: right;\">\n",
       "      <th></th>\n",
       "      <th>Transaction ID</th>\n",
       "      <th>Price</th>\n",
       "    </tr>\n",
       "    <tr>\n",
       "      <th>Purchase Type</th>\n",
       "      <th></th>\n",
       "      <th></th>\n",
       "    </tr>\n",
       "  </thead>\n",
       "  <tbody>\n",
       "    <tr>\n",
       "      <th>Online</th>\n",
       "      <td>18521</td>\n",
       "      <td>382754</td>\n",
       "    </tr>\n",
       "    <tr>\n",
       "      <th>Station</th>\n",
       "      <td>13132</td>\n",
       "      <td>359167</td>\n",
       "    </tr>\n",
       "  </tbody>\n",
       "</table>\n",
       "</div>"
      ],
      "text/plain": [
       "               Transaction ID   Price\n",
       "Purchase Type                        \n",
       "Online                  18521  382754\n",
       "Station                 13132  359167"
      ]
     },
     "execution_count": 38,
     "metadata": {},
     "output_type": "execute_result"
    }
   ],
   "source": [
    "gp_purType = df.groupby('Purchase Type').agg({'Transaction ID':'count', 'Price':'sum'})\n",
    "gp_purType"
   ]
  },
  {
   "cell_type": "code",
   "execution_count": 39,
   "id": "b064957b-d1ae-45a4-be6e-0391581fe01d",
   "metadata": {},
   "outputs": [
    {
     "data": {
      "text/plain": [
       "array(['Liverpool Lime Street', 'York', 'Manchester Piccadilly',\n",
       "       'Reading', 'London Euston', 'Oxford', 'Durham',\n",
       "       'London St Pancras', 'Birmingham New Street', 'London Paddington',\n",
       "       'Bristol Temple Meads', 'Tamworth', 'London Waterloo', 'Sheffield',\n",
       "       'Wolverhampton', 'Leeds', 'Stafford', 'Doncaster', 'Swindon',\n",
       "       'Nottingham', 'Peterborough', 'Edinburgh', 'Crewe',\n",
       "       'London Kings Cross', 'Leicester', 'Nuneaton', 'Didcot',\n",
       "       'Edinburgh Waverley', 'Coventry', 'Wakefield', 'Cardiff Central',\n",
       "       'Warrington'], dtype=object)"
      ]
     },
     "execution_count": 39,
     "metadata": {},
     "output_type": "execute_result"
    }
   ],
   "source": [
    "df['Arrival Destination'].unique()"
   ]
  },
  {
   "cell_type": "code",
   "execution_count": 42,
   "id": "45a3e0d4-88ae-4d02-9ff7-36e130ac9190",
   "metadata": {},
   "outputs": [
    {
     "name": "stdout",
     "output_type": "stream",
     "text": [
      "Arrival Destination\n",
      "Birmingham New Street    7742\n",
      "Bristol Temple Meads      144\n",
      "Cardiff Central            16\n",
      "Coventry                   65\n",
      "Crewe                     193\n",
      "Didcot                     48\n",
      "Doncaster                 211\n",
      "Durham                    258\n",
      "Edinburgh                 154\n",
      "Edinburgh Waverley        178\n",
      "Leeds                     255\n",
      "Leicester                 337\n",
      "Liverpool Lime Street    5022\n",
      "London Euston            1567\n",
      "London Kings Cross         84\n",
      "London Paddington         351\n",
      "London St Pancras         749\n",
      "London Waterloo            68\n",
      "Manchester Piccadilly    3968\n",
      "Nottingham                158\n",
      "Nuneaton                  219\n",
      "Oxford                    623\n",
      "Peterborough              242\n",
      "Reading                  3920\n",
      "Sheffield                 272\n",
      "Stafford                  190\n",
      "Swindon                   228\n",
      "Tamworth                  227\n",
      "Wakefield                  15\n",
      "Warrington                 15\n",
      "Wolverhampton             115\n",
      "York                     4019\n",
      "Name: Transaction ID, dtype: int64\n"
     ]
    }
   ],
   "source": [
    "gp_destination = df.groupby('Arrival Destination')['Transaction ID'].count()\n",
    "print(gp_destination)"
   ]
  },
  {
   "cell_type": "code",
   "execution_count": 51,
   "id": "9c005e34-1cd6-427b-8436-35cc2ef136d4",
   "metadata": {},
   "outputs": [
    {
     "name": "stdout",
     "output_type": "stream",
     "text": [
      "                                      Transaction ID\n",
      "Arrival Destination   Journey Status                \n",
      "Birmingham New Street Cancelled                  488\n",
      "                      Delayed                    242\n",
      "                      On Time                   7012\n",
      "Bristol Temple Meads  Cancelled                    6\n",
      "                      Delayed                     15\n",
      "...                                              ...\n",
      "Wolverhampton         Cancelled                    4\n",
      "                      On Time                    111\n",
      "York                  Cancelled                  198\n",
      "                      Delayed                    148\n",
      "                      On Time                   3673\n",
      "\n",
      "[73 rows x 1 columns]\n"
     ]
    }
   ],
   "source": [
    "gp_destination = df.groupby(['Arrival Destination', 'Journey Status']).agg({'Transaction ID':'count'})\n",
    "print(gp_destination)"
   ]
  },
  {
   "cell_type": "code",
   "execution_count": 52,
   "id": "9188a8d4-c03c-492f-b7c6-ba1f5d5a6c04",
   "metadata": {},
   "outputs": [
    {
     "name": "stdout",
     "output_type": "stream",
     "text": [
      "<class 'pandas.core.frame.DataFrame'>\n",
      "RangeIndex: 31653 entries, 0 to 31652\n",
      "Data columns (total 18 columns):\n",
      " #   Column               Non-Null Count  Dtype         \n",
      "---  ------               --------------  -----         \n",
      " 0   Transaction ID       31653 non-null  object        \n",
      " 1   Date of Purchase     31653 non-null  datetime64[ns]\n",
      " 2   Time of Purchase     31653 non-null  datetime64[ns]\n",
      " 3   Purchase Type        31653 non-null  object        \n",
      " 4   Payment Method       31653 non-null  object        \n",
      " 5   Railcard             31653 non-null  object        \n",
      " 6   Ticket Class         31653 non-null  object        \n",
      " 7   Ticket Type          31653 non-null  object        \n",
      " 8   Price                31653 non-null  int64         \n",
      " 9   Departure Station    31653 non-null  object        \n",
      " 10  Arrival Destination  31653 non-null  object        \n",
      " 11  Date of Journey      31653 non-null  datetime64[ns]\n",
      " 12  Departure Time       31653 non-null  object        \n",
      " 13  Arrival Time         31653 non-null  object        \n",
      " 14  Actual Arrival Time  31653 non-null  object        \n",
      " 15  Journey Status       31653 non-null  object        \n",
      " 16  Reason for Delay     31653 non-null  object        \n",
      " 17  Refund Request       31653 non-null  object        \n",
      "dtypes: datetime64[ns](3), int64(1), object(14)\n",
      "memory usage: 4.3+ MB\n"
     ]
    }
   ],
   "source": [
    "df.info()"
   ]
  },
  {
   "cell_type": "code",
   "execution_count": null,
   "id": "ff3f1c03-278b-45ab-ae74-30427caa277f",
   "metadata": {},
   "outputs": [],
   "source": []
  }
 ],
 "metadata": {
  "kernelspec": {
   "display_name": "Python 3 (ipykernel)",
   "language": "python",
   "name": "python3"
  },
  "language_info": {
   "codemirror_mode": {
    "name": "ipython",
    "version": 3
   },
   "file_extension": ".py",
   "mimetype": "text/x-python",
   "name": "python",
   "nbconvert_exporter": "python",
   "pygments_lexer": "ipython3",
   "version": "3.13.0"
  },
  "widgets": {
   "application/vnd.jupyter.widget-state+json": {
    "state": {},
    "version_major": 2,
    "version_minor": 0
   }
  }
 },
 "nbformat": 4,
 "nbformat_minor": 5
}
