{
 "cells": [
  {
   "cell_type": "markdown",
   "id": "3b714f09-378f-441e-be97-6973a88f4f83",
   "metadata": {},
   "source": [
    "# Python Data Handling with Pandas and NumPy"
   ]
  },
  {
   "cell_type": "markdown",
   "id": "bcf82da3-1852-427a-b296-6f8d08db4328",
   "metadata": {},
   "source": [
    "# 1. Python Programming Basics"
   ]
  },
  {
   "cell_type": "code",
   "execution_count": 13,
   "id": "1e8bfda7-dddf-40ea-b33b-7f15e99e9d70",
   "metadata": {},
   "outputs": [
    {
     "name": "stdout",
     "output_type": "stream",
     "text": [
      "Square of the list is: [1, 4, 9, 16, 25, 36]\n"
     ]
    }
   ],
   "source": [
    "# Function That Takes A List Of Numbers And Returns A New List With Each Number Squared\n",
    "def square(lists):\n",
    "    return list(map(lambda x: x**2, lists))\n",
    "    \n",
    "my_list = [1,2,3,4,5,6]\n",
    "print(\"Square of the list is:\",square(my_list))"
   ]
  },
  {
   "cell_type": "code",
   "execution_count": 14,
   "id": "48c830a2-663b-4d5c-b842-4391db547644",
   "metadata": {},
   "outputs": [
    {
     "name": "stdout",
     "output_type": "stream",
     "text": [
      "Sum of the list: 21\n"
     ]
    }
   ],
   "source": [
    "# Function That Return Total Sum Of The List\n",
    "def addition(lists):\n",
    "    total = lambda x: sum(x)\n",
    "    return total(lists)\n",
    "\n",
    "my_list = [1,2,3,4,5,6]\n",
    "print(\"Sum of the list:\",addition(my_list))"
   ]
  },
  {
   "cell_type": "code",
   "execution_count": 18,
   "id": "b1897aaa-b4b4-48e1-b6bb-df66bc3f9443",
   "metadata": {},
   "outputs": [
    {
     "name": "stdout",
     "output_type": "stream",
     "text": [
      "Origianl List: [1, 2, 3, 4, 5, 6, 7, 8, 9, 10]\n",
      "Squared Lists:  [1, 4, 9, 16, 25, 36, 49, 64, 81, 100]\n"
     ]
    }
   ],
   "source": [
    "# List Of 10 Integers, Use Function To Square These Numbers & Print Squared Lists.\n",
    "def square(lists):\n",
    "    return list(map(lambda x: x**2, lists))\n",
    "\n",
    "my_list = []\n",
    "for i in range(1,11):\n",
    "    my_list.append(i)\n",
    "print(\"Origianl List:\",my_list)\n",
    "print(\"Squared Lists: \",square(my_list))"
   ]
  },
  {
   "cell_type": "code",
   "execution_count": 92,
   "id": "ecd39077-b3d2-4ff8-b620-f2a5a38f1404",
   "metadata": {},
   "outputs": [
    {
     "name": "stdout",
     "output_type": "stream",
     "text": [
      "{'Alice': 85, 'Bob': 92, 'Charlie': 78, 'David': 88, 'Eve': 91, 'Frank': 77, 'Grace': 95, 'Hannah': 82, 'Ivy': 89, 'Kevin': 80}\n"
     ]
    }
   ],
   "source": [
    "# Create A Dictionary Where The Keys Are Names Of Students & The Values Are Their Scores In Exam.\n",
    "my_dict = {\n",
    "    \"Alice\": 85, \"Bob\": 92,\n",
    "    \"Charlie\": 78, \"David\": 88,\n",
    "    \"Eve\": 91, \"Frank\": 77,\n",
    "    \"Grace\": 95, \"Hannah\": 82,\n",
    "    \"Ivy\": 89,  \"Kevin\": 80,\n",
    "}\n",
    "print(my_dict)"
   ]
  },
  {
   "cell_type": "code",
   "execution_count": 28,
   "id": "87f1fd83-de37-4eca-940e-6f1d70b4992a",
   "metadata": {},
   "outputs": [
    {
     "name": "stdout",
     "output_type": "stream",
     "text": [
      "{'Alice': 85, 'David': 88, 'Eve': 91, 'Hannah': 82}\n"
     ]
    }
   ],
   "source": [
    "# Function That Takes Dictionary & Returns A New Dictionary With Only Those Students Who Scored Above 50\n",
    "def above50(dicts):\n",
    "    score = {name: sc for name, sc in dicts.items() if sc > 50}\n",
    "    return score\n",
    "\n",
    "my_dict = {\n",
    "    \"Alice\": 85, \"Bob\": 45,\n",
    "    \"Charlie\": 49, \"David\": 88,\n",
    "    \"Eve\": 91, \"Frank\": 50,\n",
    "    \"Grace\": 45, \"Hannah\": 82\n",
    "}\n",
    "print(above50(my_dict))"
   ]
  },
  {
   "cell_type": "code",
   "execution_count": 33,
   "id": "7184bb7a-9f06-4b6c-b6a1-eb35c5d12549",
   "metadata": {},
   "outputs": [
    {
     "name": "stdout",
     "output_type": "stream",
     "text": [
      "{'Alice': 93.5, 'Bob': 49.5, 'Charlie': 53.9, 'David': 96.8, 'Eve': 100.1, 'Frank': 55.0, 'Grace': 49.5, 'Hannah': 90.2}\n"
     ]
    }
   ],
   "source": [
    "#Use Dictionary Comprehension To Create A Dictionary Where The Values Are Their Scores Multiplied By 1.1\n",
    "def add_bonus(my_list):\n",
    "    scores = {name: round(score * 1.1, 2) for name, score in my_dict.items()}\n",
    "    return scores\n",
    "\n",
    "my_dict = {\n",
    "    \"Alice\": 85, \"Bob\": 45,\n",
    "    \"Charlie\": 49, \"David\": 88,\n",
    "    \"Eve\": 91, \"Frank\": 50,\n",
    "    \"Grace\": 45, \"Hannah\": 82\n",
    "}    \n",
    "print(add_bonus(my_dict))"
   ]
  },
  {
   "cell_type": "markdown",
   "id": "6fd09d08-e444-4a03-ab23-b6fc542b2b55",
   "metadata": {},
   "source": [
    "# 2. Data Manipulation with Pandas"
   ]
  },
  {
   "cell_type": "code",
   "execution_count": 49,
   "id": "3650fd11-3155-4e3f-bd84-c2307548ed3b",
   "metadata": {},
   "outputs": [],
   "source": [
    "import pandas as pd\n",
    "import numpy as np"
   ]
  },
  {
   "cell_type": "code",
   "execution_count": 54,
   "id": "7c4dc75e-a40d-412a-8a32-9d96c49f4ad0",
   "metadata": {},
   "outputs": [
    {
     "data": {
      "text/html": [
       "<div>\n",
       "<style scoped>\n",
       "    .dataframe tbody tr th:only-of-type {\n",
       "        vertical-align: middle;\n",
       "    }\n",
       "\n",
       "    .dataframe tbody tr th {\n",
       "        vertical-align: top;\n",
       "    }\n",
       "\n",
       "    .dataframe thead th {\n",
       "        text-align: right;\n",
       "    }\n",
       "</style>\n",
       "<table border=\"1\" class=\"dataframe\">\n",
       "  <thead>\n",
       "    <tr style=\"text-align: right;\">\n",
       "      <th></th>\n",
       "      <th>Name</th>\n",
       "      <th>Age</th>\n",
       "      <th>City</th>\n",
       "    </tr>\n",
       "  </thead>\n",
       "  <tbody>\n",
       "    <tr>\n",
       "      <th>0</th>\n",
       "      <td>Alice</td>\n",
       "      <td>25</td>\n",
       "      <td>New York</td>\n",
       "    </tr>\n",
       "    <tr>\n",
       "      <th>1</th>\n",
       "      <td>Bob</td>\n",
       "      <td>30</td>\n",
       "      <td>Los Angeles</td>\n",
       "    </tr>\n",
       "    <tr>\n",
       "      <th>2</th>\n",
       "      <td>Charlie</td>\n",
       "      <td>35</td>\n",
       "      <td>Chicago</td>\n",
       "    </tr>\n",
       "    <tr>\n",
       "      <th>3</th>\n",
       "      <td>David</td>\n",
       "      <td>40</td>\n",
       "      <td>Houston</td>\n",
       "    </tr>\n",
       "    <tr>\n",
       "      <th>4</th>\n",
       "      <td>Eva</td>\n",
       "      <td>45</td>\n",
       "      <td>Phoenix</td>\n",
       "    </tr>\n",
       "  </tbody>\n",
       "</table>\n",
       "</div>"
      ],
      "text/plain": [
       "      Name  Age         City\n",
       "0    Alice   25     New York\n",
       "1      Bob   30  Los Angeles\n",
       "2  Charlie   35      Chicago\n",
       "3    David   40      Houston\n",
       "4      Eva   45      Phoenix"
      ]
     },
     "execution_count": 54,
     "metadata": {},
     "output_type": "execute_result"
    }
   ],
   "source": [
    "# Create A DataFrame From This Dictionary.\n",
    "data = {\n",
    "'Name': ['Alice', 'Bob', 'Charlie', 'David', 'Eva'],\n",
    "'Age': [25, 30, 35, 40, 45],\n",
    "'City': ['New York', 'Los Angeles', 'Chicago', 'Houston', 'Phoenix']\n",
    "}\n",
    "df = pd.DataFrame(data)\n",
    "df"
   ]
  },
  {
   "cell_type": "code",
   "execution_count": 95,
   "id": "8b14453d-e0fd-436b-94bf-68e28377f30c",
   "metadata": {},
   "outputs": [
    {
     "name": "stdout",
     "output_type": "stream",
     "text": [
      "First few of the dataFrame:\n"
     ]
    },
    {
     "data": {
      "text/html": [
       "<div>\n",
       "<style scoped>\n",
       "    .dataframe tbody tr th:only-of-type {\n",
       "        vertical-align: middle;\n",
       "    }\n",
       "\n",
       "    .dataframe tbody tr th {\n",
       "        vertical-align: top;\n",
       "    }\n",
       "\n",
       "    .dataframe thead th {\n",
       "        text-align: right;\n",
       "    }\n",
       "</style>\n",
       "<table border=\"1\" class=\"dataframe\">\n",
       "  <thead>\n",
       "    <tr style=\"text-align: right;\">\n",
       "      <th></th>\n",
       "      <th>Name</th>\n",
       "      <th>Age</th>\n",
       "      <th>City</th>\n",
       "      <th>AgeGroup</th>\n",
       "    </tr>\n",
       "  </thead>\n",
       "  <tbody>\n",
       "    <tr>\n",
       "      <th>0</th>\n",
       "      <td>Alice</td>\n",
       "      <td>25</td>\n",
       "      <td>New York</td>\n",
       "      <td>Adult</td>\n",
       "    </tr>\n",
       "    <tr>\n",
       "      <th>1</th>\n",
       "      <td>Bob</td>\n",
       "      <td>30</td>\n",
       "      <td>Los Angeles</td>\n",
       "      <td>Adult</td>\n",
       "    </tr>\n",
       "    <tr>\n",
       "      <th>2</th>\n",
       "      <td>Charlie</td>\n",
       "      <td>35</td>\n",
       "      <td>Chicago</td>\n",
       "      <td>Adult</td>\n",
       "    </tr>\n",
       "  </tbody>\n",
       "</table>\n",
       "</div>"
      ],
      "text/plain": [
       "      Name  Age         City AgeGroup\n",
       "0    Alice   25     New York    Adult\n",
       "1      Bob   30  Los Angeles    Adult\n",
       "2  Charlie   35      Chicago    Adult"
      ]
     },
     "execution_count": 95,
     "metadata": {},
     "output_type": "execute_result"
    }
   ],
   "source": [
    "# Display The First Few Rows Of The DataFrame\n",
    "print(\"First few of the dataFrame:\")\n",
    "df.head(3)"
   ]
  },
  {
   "cell_type": "code",
   "execution_count": 52,
   "id": "5d60ecee-06b9-4955-879f-4bb2ce9d4393",
   "metadata": {},
   "outputs": [
    {
     "name": "stdout",
     "output_type": "stream",
     "text": [
      "Average Age Of The Student: 35.0\n"
     ]
    }
   ],
   "source": [
    "# Calculate & Print The Average Age From The DataFrame.\n",
    "print(\"Average Age Of The Student:\",np.average(df['Age']))"
   ]
  },
  {
   "cell_type": "code",
   "execution_count": 53,
   "id": "84dd6547-4172-4b85-8f37-4edf53c42a27",
   "metadata": {},
   "outputs": [
    {
     "data": {
      "text/html": [
       "<div>\n",
       "<style scoped>\n",
       "    .dataframe tbody tr th:only-of-type {\n",
       "        vertical-align: middle;\n",
       "    }\n",
       "\n",
       "    .dataframe tbody tr th {\n",
       "        vertical-align: top;\n",
       "    }\n",
       "\n",
       "    .dataframe thead th {\n",
       "        text-align: right;\n",
       "    }\n",
       "</style>\n",
       "<table border=\"1\" class=\"dataframe\">\n",
       "  <thead>\n",
       "    <tr style=\"text-align: right;\">\n",
       "      <th></th>\n",
       "      <th>Name</th>\n",
       "      <th>Age</th>\n",
       "      <th>City</th>\n",
       "    </tr>\n",
       "  </thead>\n",
       "  <tbody>\n",
       "    <tr>\n",
       "      <th>2</th>\n",
       "      <td>Charlie</td>\n",
       "      <td>35</td>\n",
       "      <td>Chicago</td>\n",
       "    </tr>\n",
       "    <tr>\n",
       "      <th>3</th>\n",
       "      <td>David</td>\n",
       "      <td>40</td>\n",
       "      <td>Houston</td>\n",
       "    </tr>\n",
       "    <tr>\n",
       "      <th>4</th>\n",
       "      <td>Eva</td>\n",
       "      <td>45</td>\n",
       "      <td>Phoenix</td>\n",
       "    </tr>\n",
       "  </tbody>\n",
       "</table>\n",
       "</div>"
      ],
      "text/plain": [
       "      Name  Age     City\n",
       "2  Charlie   35  Chicago\n",
       "3    David   40  Houston\n",
       "4      Eva   45  Phoenix"
      ]
     },
     "execution_count": 53,
     "metadata": {},
     "output_type": "execute_result"
    }
   ],
   "source": [
    "# Filter The DataFrame To Include Only Rows Where The Age Is Greater Than 30.\n",
    "filter_df = df[df['Age']> 30]\n",
    "filter_df"
   ]
  },
  {
   "cell_type": "code",
   "execution_count": 57,
   "id": "d30cc22b-3bfb-4451-acd6-1eed0f790003",
   "metadata": {},
   "outputs": [
    {
     "data": {
      "text/html": [
       "<div>\n",
       "<style scoped>\n",
       "    .dataframe tbody tr th:only-of-type {\n",
       "        vertical-align: middle;\n",
       "    }\n",
       "\n",
       "    .dataframe tbody tr th {\n",
       "        vertical-align: top;\n",
       "    }\n",
       "\n",
       "    .dataframe thead th {\n",
       "        text-align: right;\n",
       "    }\n",
       "</style>\n",
       "<table border=\"1\" class=\"dataframe\">\n",
       "  <thead>\n",
       "    <tr style=\"text-align: right;\">\n",
       "      <th></th>\n",
       "      <th>Name</th>\n",
       "      <th>Age</th>\n",
       "      <th>City</th>\n",
       "      <th>AgeGroup</th>\n",
       "    </tr>\n",
       "  </thead>\n",
       "  <tbody>\n",
       "    <tr>\n",
       "      <th>0</th>\n",
       "      <td>Alice</td>\n",
       "      <td>25</td>\n",
       "      <td>New York</td>\n",
       "      <td>Adult</td>\n",
       "    </tr>\n",
       "    <tr>\n",
       "      <th>1</th>\n",
       "      <td>Bob</td>\n",
       "      <td>30</td>\n",
       "      <td>Los Angeles</td>\n",
       "      <td>Adult</td>\n",
       "    </tr>\n",
       "    <tr>\n",
       "      <th>2</th>\n",
       "      <td>Charlie</td>\n",
       "      <td>35</td>\n",
       "      <td>Chicago</td>\n",
       "      <td>Adult</td>\n",
       "    </tr>\n",
       "    <tr>\n",
       "      <th>3</th>\n",
       "      <td>David</td>\n",
       "      <td>40</td>\n",
       "      <td>Houston</td>\n",
       "      <td>Seniors</td>\n",
       "    </tr>\n",
       "    <tr>\n",
       "      <th>4</th>\n",
       "      <td>Eva</td>\n",
       "      <td>45</td>\n",
       "      <td>Phoenix</td>\n",
       "      <td>Seniors</td>\n",
       "    </tr>\n",
       "  </tbody>\n",
       "</table>\n",
       "</div>"
      ],
      "text/plain": [
       "      Name  Age         City AgeGroup\n",
       "0    Alice   25     New York    Adult\n",
       "1      Bob   30  Los Angeles    Adult\n",
       "2  Charlie   35      Chicago    Adult\n",
       "3    David   40      Houston  Seniors\n",
       "4      Eva   45      Phoenix  Seniors"
      ]
     },
     "execution_count": 57,
     "metadata": {},
     "output_type": "execute_result"
    }
   ],
   "source": [
    "# Add A New Column To The DataFrame Called AgeGroup.\n",
    "df['AgeGroup'] = df['Age'].apply(lambda x: \"Seniors\" if x>=40 else \"Adult\")\n",
    "df"
   ]
  },
  {
   "cell_type": "code",
   "execution_count": 66,
   "id": "a473c1e6-1555-426b-943a-22c7595b599b",
   "metadata": {},
   "outputs": [
    {
     "name": "stdout",
     "output_type": "stream",
     "text": [
      "AgeGroup\n",
      "Adult      30.0\n",
      "Seniors    42.5\n",
      "Name: Age, dtype: float64\n"
     ]
    }
   ],
   "source": [
    "# Group The Data By AgeGroup & Calculate The Average Age For Each Group.\n",
    "gp = df.groupby('AgeGroup')['Age'].mean()\n",
    "print(gp)"
   ]
  },
  {
   "cell_type": "markdown",
   "id": "4963ff94-97ee-4825-95d8-f570f481fda9",
   "metadata": {},
   "source": [
    "# 3. Data Manipulation with NumPy"
   ]
  },
  {
   "cell_type": "code",
   "execution_count": 70,
   "id": "31fb834a-7e5c-4a42-8df6-4d0a3688a3b1",
   "metadata": {},
   "outputs": [
    {
     "name": "stdout",
     "output_type": "stream",
     "text": [
      "The NumPy Array Is: [36 34  1 19 18 16 15 14 39 48 21 13]\n"
     ]
    }
   ],
   "source": [
    "# Create A NumPy Array With 12 Random Integers Between 1 & 50.\n",
    "array = np.random.randint(1,50,size=12)\n",
    "print(\"The NumPy Array Is:\",array)"
   ]
  },
  {
   "cell_type": "code",
   "execution_count": 79,
   "id": "d4d00504-e631-43f1-8d1f-37e742fc5f6f",
   "metadata": {},
   "outputs": [
    {
     "name": "stdout",
     "output_type": "stream",
     "text": [
      "1D Array is: [36 34  1 19 18 16 15 14 39 48 21 13] \n",
      "\n",
      "2D Array is:\n",
      "[[36 34  1 19]\n",
      " [18 16 15 14]\n",
      " [39 48 21 13]]\n"
     ]
    }
   ],
   "source": [
    "# Reshape The Array Into A 3x4 Matrix.\n",
    "print(\"1D Array is:\",array, \"\\n\")\n",
    "array_2d = array.reshape(3,4)\n",
    "print(\"2D Array is:\")\n",
    "print(array_2d)"
   ]
  },
  {
   "cell_type": "code",
   "execution_count": 85,
   "id": "921c5751-674d-48c9-b1d5-6edca172b98c",
   "metadata": {},
   "outputs": [
    {
     "name": "stdout",
     "output_type": "stream",
     "text": [
      "Maximum element in the array: 48\n",
      "Minimum element in the array: 1\n",
      "Mean of the array: 22.83\n"
     ]
    }
   ],
   "source": [
    "# Find & Print The Maximum, Minimum, & Mean Values Of The Array.\n",
    "print(\"Maximum element in the array:\", np.max(array))\n",
    "print(\"Minimum element in the array:\", np.min(array))\n",
    "print(\"Mean of the array:\", round(np.mean(array),2))"
   ]
  },
  {
   "cell_type": "code",
   "execution_count": 87,
   "id": "6df8e0f3-676f-4276-a2ff-9f5902d13024",
   "metadata": {},
   "outputs": [
    {
     "name": "stdout",
     "output_type": "stream",
     "text": [
      "[[ 1  2  3]\n",
      " [ 4  5  6]\n",
      " [ 7  8  9]\n",
      " [10 11 12]]\n"
     ]
    }
   ],
   "source": [
    "# Create A NumPy Array Of Shape (4, 3) With Values From 1 To 12\n",
    "array_2d = np.array([[1,2,3],[4,5,6],[7,8,9],[10,11,12]])\n",
    "print(array_2d)"
   ]
  },
  {
   "cell_type": "code",
   "execution_count": 91,
   "id": "02ab132a-9abd-4353-b2ca-f4ae6d679d17",
   "metadata": {},
   "outputs": [
    {
     "name": "stdout",
     "output_type": "stream",
     "text": [
      "The Second Row Of The Array: [4 5 6]\n"
     ]
    }
   ],
   "source": [
    "# Extract & Print The Second Row Of The Array.\n",
    "print(\"The Second Row Of The Array:\",array_2d[1,:])"
   ]
  },
  {
   "cell_type": "code",
   "execution_count": 90,
   "id": "617d49b2-cad7-4541-955a-c3093308dbe0",
   "metadata": {},
   "outputs": [
    {
     "name": "stdout",
     "output_type": "stream",
     "text": [
      "Extracted 2x2 Submatrix:\n",
      "[[1 2]\n",
      " [4 5]]\n"
     ]
    }
   ],
   "source": [
    "# Extract & Print A 2x2 Submatrix from the top-left corner of the array.\n",
    "print(\"Extracted 2x2 Submatrix:\")\n",
    "print(array_2d[:2,:2])"
   ]
  }
 ],
 "metadata": {
  "kernelspec": {
   "display_name": "Python 3 (ipykernel)",
   "language": "python",
   "name": "python3"
  },
  "language_info": {
   "codemirror_mode": {
    "name": "ipython",
    "version": 3
   },
   "file_extension": ".py",
   "mimetype": "text/x-python",
   "name": "python",
   "nbconvert_exporter": "python",
   "pygments_lexer": "ipython3",
   "version": "3.13.0"
  },
  "widgets": {
   "application/vnd.jupyter.widget-state+json": {
    "state": {},
    "version_major": 2,
    "version_minor": 0
   }
  }
 },
 "nbformat": 4,
 "nbformat_minor": 5
}
