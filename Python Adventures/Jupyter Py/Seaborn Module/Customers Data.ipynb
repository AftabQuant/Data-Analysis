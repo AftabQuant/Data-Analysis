{
 "cells": [
  {
   "cell_type": "code",
   "execution_count": 26,
   "id": "31b585c0-aa0f-4868-8f10-bb236fda7aa7",
   "metadata": {},
   "outputs": [
    {
     "name": "stdout",
     "output_type": "stream",
     "text": [
      "   Sl No.  Gender EthnicGroup         ParentEduc LunchType TestPrep  \\\n",
      "0       0  female         NaN  bachelor's degree  standard     none   \n",
      "1       1  female     group C       some college  standard      NaN   \n",
      "2       2  female     group B    master's degree  standard     none   \n",
      "\n",
      "  ParentMaritalStatus PracticeSport IsFirstChild  NrSiblings TransportMeans  \\\n",
      "0             married     regularly          yes         3.0     school_bus   \n",
      "1             married     sometimes          yes         0.0            NaN   \n",
      "2              single     sometimes          yes         4.0     school_bus   \n",
      "\n",
      "  WklyStudyHours  MathScore  ReadingScore  WritingScore  \n",
      "0            < 5         71            71            74  \n",
      "1         05-Oct         69            90            88  \n",
      "2            < 5         87            93            91  \n"
     ]
    }
   ],
   "source": [
    "import numpy as np\n",
    "import pandas as pd\n",
    "import seaborn as sns\n",
    "import matplotlib.pyplot as plt\n",
    "data = pd.read_csv(\"D:\\\\Ultimate Programming\\\\Data Bases\\\\Student Scores.csv\")\n",
    "df = pd.DataFrame(data)\n",
    "print(df.head(3))"
   ]
  },
  {
   "cell_type": "code",
   "execution_count": 27,
   "id": "930e8a34-f4bb-457c-aba1-8adaceb6cb19",
   "metadata": {},
   "outputs": [
    {
     "name": "stdout",
     "output_type": "stream",
     "text": [
      "<class 'pandas.core.frame.DataFrame'>\n",
      "RangeIndex: 30641 entries, 0 to 30640\n",
      "Data columns (total 15 columns):\n",
      " #   Column               Non-Null Count  Dtype  \n",
      "---  ------               --------------  -----  \n",
      " 0   Sl No.               30641 non-null  int64  \n",
      " 1   Gender               30641 non-null  object \n",
      " 2   EthnicGroup          28801 non-null  object \n",
      " 3   ParentEduc           28796 non-null  object \n",
      " 4   LunchType            30641 non-null  object \n",
      " 5   TestPrep             28811 non-null  object \n",
      " 6   ParentMaritalStatus  29451 non-null  object \n",
      " 7   PracticeSport        30010 non-null  object \n",
      " 8   IsFirstChild         29737 non-null  object \n",
      " 9   NrSiblings           29069 non-null  float64\n",
      " 10  TransportMeans       27507 non-null  object \n",
      " 11  WklyStudyHours       29686 non-null  object \n",
      " 12  MathScore            30641 non-null  int64  \n",
      " 13  ReadingScore         30641 non-null  int64  \n",
      " 14  WritingScore         30641 non-null  int64  \n",
      "dtypes: float64(1), int64(4), object(10)\n",
      "memory usage: 3.5+ MB\n"
     ]
    }
   ],
   "source": [
    "df.info()"
   ]
  },
  {
   "cell_type": "code",
   "execution_count": 28,
   "id": "769df1a3-a565-4571-a63b-b53195276c1d",
   "metadata": {},
   "outputs": [
    {
     "data": {
      "text/plain": [
       "Sl No.                    0\n",
       "Gender                    0\n",
       "EthnicGroup            1840\n",
       "ParentEduc             1845\n",
       "LunchType                 0\n",
       "TestPrep               1830\n",
       "ParentMaritalStatus    1190\n",
       "PracticeSport           631\n",
       "IsFirstChild            904\n",
       "NrSiblings             1572\n",
       "TransportMeans         3134\n",
       "WklyStudyHours          955\n",
       "MathScore                 0\n",
       "ReadingScore              0\n",
       "WritingScore              0\n",
       "dtype: int64"
      ]
     },
     "execution_count": 28,
     "metadata": {},
     "output_type": "execute_result"
    }
   ],
   "source": [
    "df.isnull().sum()"
   ]
  },
  {
   "cell_type": "code",
   "execution_count": 29,
   "id": "ecff3206-24d3-4bf7-82ae-f7478205b662",
   "metadata": {},
   "outputs": [
    {
     "name": "stdout",
     "output_type": "stream",
     "text": [
      "TransportMeans\n",
      "private       11362\n",
      "school_bus    16145\n",
      "Name: Sl No., dtype: int64\n"
     ]
    }
   ],
   "source": [
    "gp = df.groupby(\"TransportMeans\")[\"Sl No.\"].count()\n",
    "print(gp)"
   ]
  },
  {
   "cell_type": "code",
   "execution_count": 30,
   "id": "bd767534-7831-41f6-989e-e4e8c5619a99",
   "metadata": {},
   "outputs": [],
   "source": [
    "df[\"EthnicGroup\"] = df[\"EthnicGroup\"].replace(np.nan, \"group X\")"
   ]
  },
  {
   "cell_type": "code",
   "execution_count": 54,
   "id": "412950c2-a606-4659-b0b9-5b5c11f97bde",
   "metadata": {},
   "outputs": [
    {
     "data": {
      "text/plain": [
       "0        school_bus\n",
       "1        school_bus\n",
       "2        school_bus\n",
       "3        school_bus\n",
       "4        school_bus\n",
       "            ...    \n",
       "30636    school_bus\n",
       "30637       private\n",
       "30638       private\n",
       "30639    school_bus\n",
       "30640    school_bus\n",
       "Name: TransportMeans, Length: 30641, dtype: object"
      ]
     },
     "execution_count": 54,
     "metadata": {},
     "output_type": "execute_result"
    }
   ],
   "source": [
    "df[\"TransportMeans\"].bfill()"
   ]
  },
  {
   "cell_type": "code",
   "execution_count": 77,
   "id": "fe4f6d5c-e3b3-4e44-a61d-5d857402b113",
   "metadata": {},
   "outputs": [
    {
     "name": "stdout",
     "output_type": "stream",
     "text": [
      "             Sl No.  TransportMeans\n",
      "EthnicGroup                        \n",
      "group A        2219            2219\n",
      "group B        5826            5826\n",
      "group C        9212            9212\n",
      "group D        7503            7503\n",
      "group E        4041            4041\n",
      "group X        1840            1840\n"
     ]
    }
   ],
   "source": [
    "gp = df.groupby(\"EthnicGroup\").agg({\"Sl No.\" : \"count\", \"TransportMeans\" : \"count\"})\n",
    "print(gp)"
   ]
  },
  {
   "cell_type": "code",
   "execution_count": 78,
   "id": "1a565de5-d6e9-4f7a-a1ee-871c6c672fdb",
   "metadata": {},
   "outputs": [],
   "source": [
    "df[\"TransportMeans\"] = df[\"TransportMeans\"].bfill()"
   ]
  },
  {
   "cell_type": "code",
   "execution_count": 79,
   "id": "da06867c-4af1-436a-bb88-2986c77ed42e",
   "metadata": {},
   "outputs": [
    {
     "data": {
      "text/plain": [
       "Sl No.                    0\n",
       "Gender                    0\n",
       "EthnicGroup               0\n",
       "ParentEduc             1845\n",
       "LunchType                 0\n",
       "TestPrep               1830\n",
       "ParentMaritalStatus    1190\n",
       "PracticeSport           631\n",
       "IsFirstChild            904\n",
       "NrSiblings             1572\n",
       "TransportMeans            0\n",
       "WklyStudyHours          955\n",
       "MathScore                 0\n",
       "ReadingScore              0\n",
       "WritingScore              0\n",
       "dtype: int64"
      ]
     },
     "execution_count": 79,
     "metadata": {},
     "output_type": "execute_result"
    }
   ],
   "source": [
    "df.isnull().sum()"
   ]
  },
  {
   "cell_type": "code",
   "execution_count": 80,
   "id": "dfdb1057-32ec-47e9-8b2f-9da0d2d63f2a",
   "metadata": {},
   "outputs": [
    {
     "data": {
      "image/png": "[encoded data removed]",
      "text/plain": [
       "<Figure size 640x480 with 1 Axes>"
      ]
     },
     "metadata": {},
     "output_type": "display_data"
    }
   ],
   "source": [
    "sns.barplot(data = gp, x = gp.index, y = gp[\"Sl No.\"], hue = gp[\"TransportMeans\"])\n",
    "plt.show()"
   ]
  },
  {
   "cell_type": "code",
   "execution_count": null,
   "id": "b674ec0c-c3c1-4be5-b463-8b6a7ac52bcd",
   "metadata": {},
   "outputs": [],
   "source": []
  }
 ],
 "metadata": {
  "kernelspec": {
   "display_name": "Python 3 (ipykernel)",
   "language": "python",
   "name": "python3"
  },
  "language_info": {
   "codemirror_mode": {
    "name": "ipython",
    "version": 3
   },
   "file_extension": ".py",
   "mimetype": "text/x-python",
   "name": "python",
   "nbconvert_exporter": "python",
   "pygments_lexer": "ipython3",
   "version": "3.13.0"
  },
  "widgets": {
   "application/vnd.jupyter.widget-state+json": {
    "state": {},
    "version_major": 2,
    "version_minor": 0
   }
  }
 },
 "nbformat": 4,
 "nbformat_minor": 5
}
