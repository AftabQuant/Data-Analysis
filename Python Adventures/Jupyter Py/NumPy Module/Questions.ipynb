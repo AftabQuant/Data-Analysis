{
 "cells": [
  {
   "cell_type": "code",
   "execution_count": 1,
   "id": "70315bc6-15f7-4f18-8d78-2ecfd5953696",
   "metadata": {},
   "outputs": [],
   "source": [
    "import numpy as np"
   ]
  },
  {
   "cell_type": "code",
   "execution_count": 2,
   "id": "537adb89-47fb-4d55-b9f7-efca79d3da02",
   "metadata": {},
   "outputs": [
    {
     "name": "stdout",
     "output_type": "stream",
     "text": [
      "[ 1  2  3  4  5  6  7  8  9 10 11 12]\n"
     ]
    }
   ],
   "source": [
    "array = np.arange(1,13)\n",
    "print(array)"
   ]
  },
  {
   "cell_type": "code",
   "execution_count": 3,
   "id": "67453fe6-b9f6-4274-ac60-da18e1dbbce8",
   "metadata": {},
   "outputs": [
    {
     "name": "stdout",
     "output_type": "stream",
     "text": [
      "[ 6  7  8  9 10 11 12 13 14 15 16 17]\n"
     ]
    }
   ],
   "source": [
    "array1 = array + 5\n",
    "print(array1)"
   ]
  },
  {
   "cell_type": "code",
   "execution_count": 4,
   "id": "9fa55964-2b5e-4d39-98ba-63ac6ebd337e",
   "metadata": {},
   "outputs": [
    {
     "name": "stdout",
     "output_type": "stream",
     "text": [
      "[ 2  4  6  8 10 12 14 16 18 20 22 24]\n"
     ]
    }
   ],
   "source": [
    "array2 = array * 2\n",
    "print(array2)"
   ]
  },
  {
   "cell_type": "code",
   "execution_count": 5,
   "id": "7cb8b081-b05d-4dbb-90ba-6248ce99d479",
   "metadata": {},
   "outputs": [
    {
     "name": "stdout",
     "output_type": "stream",
     "text": [
      "Sum of the element: 78\n",
      "Mean of the array: 6.5\n",
      "Standard Deviation: 3.45\n"
     ]
    }
   ],
   "source": [
    "print(\"Sum of the element:\", np.sum(array))\n",
    "print(\"Mean of the array:\", np.mean(array))\n",
    "print(\"Standard Deviation:\", np.round(np.std(array),2))"
   ]
  },
  {
   "cell_type": "code",
   "execution_count": 6,
   "id": "b2267477-64dc-42f8-9696-1c8b5be2d7f2",
   "metadata": {},
   "outputs": [
    {
     "name": "stdout",
     "output_type": "stream",
     "text": [
      "[[ 2  4  6  8]\n",
      " [10 12 14 16]\n",
      " [18 20 22 24]]\n"
     ]
    }
   ],
   "source": [
    "array_2d = array2.reshape(3,4)\n",
    "print(array_2d)"
   ]
  },
  {
   "cell_type": "code",
   "execution_count": 7,
   "id": "697496be-4eb6-40a0-8874-6464f4dc648b",
   "metadata": {},
   "outputs": [
    {
     "name": "stdout",
     "output_type": "stream",
     "text": [
      "[[ 1  2  3  4  5]\n",
      " [ 6  7  8  9 10]\n",
      " [11 12 13 14 15]\n",
      " [16 17 18 19 20]\n",
      " [21 22 23 24 25]]\n"
     ]
    }
   ],
   "source": [
    "array3 = np.arange(1,26)\n",
    "array4 = array3.reshape(5,5)\n",
    "print(array4)"
   ]
  },
  {
   "cell_type": "code",
   "execution_count": 8,
   "id": "6dd3c72a-06c5-474b-9bf8-3f852ed136d1",
   "metadata": {},
   "outputs": [
    {
     "name": "stdout",
     "output_type": "stream",
     "text": [
      "[[ 7  8  9]\n",
      " [12 13 14]\n",
      " [17 18 19]]\n"
     ]
    }
   ],
   "source": [
    "print(array4[1:4, 1:4])"
   ]
  },
  {
   "cell_type": "code",
   "execution_count": 9,
   "id": "de6db16d-2885-4362-ad62-df9622dda85a",
   "metadata": {},
   "outputs": [
    {
     "name": "stdout",
     "output_type": "stream",
     "text": [
      "[[ 1  2  3  4  5]\n",
      " [ 6  7  8  9 10]]\n",
      "[[ 5  6  7  8  9]\n",
      " [10 11 12 13 14]] \n",
      "\n",
      "[[ 6  8 10 12 14]\n",
      " [16 18 20 22 24]]\n",
      "605\n"
     ]
    }
   ],
   "source": [
    "a = np.arange(1,11)\n",
    "b = np.arange(5,15)\n",
    "a_2d = a.reshape(2,5)\n",
    "b_2d = b.reshape(2,5)\n",
    "print(a_2d)\n",
    "print(b_2d,\"\\n\")\n",
    "\n",
    "c = a_2d + b_2d\n",
    "print(c)\n",
    "print(np.dot(a,b))"
   ]
  },
  {
   "cell_type": "code",
   "execution_count": 10,
   "id": "b19a2dca-e0d7-431f-86c3-f9f78b34d2e3",
   "metadata": {},
   "outputs": [
    {
     "name": "stdout",
     "output_type": "stream",
     "text": [
      "[17 18 10 10  7  2  6  6  4 10]\n",
      "[ 2  4  6  6  7 10 10 10 17 18]\n",
      "[18 17 10 10 10  7  6  6  4  2]\n"
     ]
    }
   ],
   "source": [
    "array = np.random.randint(1,20,10)\n",
    "print(array)\n",
    "print(np.sort(array))\n",
    "print(np.sort(array)[:: -1])"
   ]
  },
  {
   "cell_type": "code",
   "execution_count": 11,
   "id": "1189b9ea-bc9d-4c8c-b377-d951e5b11b15",
   "metadata": {},
   "outputs": [
    {
     "name": "stdout",
     "output_type": "stream",
     "text": [
      "[[ 1  2  3  4  5]\n",
      " [ 6  7  8  9 10]]\n",
      "[[ 5  6  7  8  9]\n",
      " [10 11 12 13 14]] \n",
      "\n",
      "[[False False False False False]\n",
      " [False False False False False]]\n"
     ]
    }
   ],
   "source": [
    "a = np.arange(1,11)\n",
    "b = np.arange(5,15)\n",
    "a_2d = a.reshape(2,5)\n",
    "b_2d = b.reshape(2,5)\n",
    "print(a_2d)\n",
    "print(b_2d,\"\\n\")\n",
    "print(a_2d == b_2d)"
   ]
  },
  {
   "cell_type": "code",
   "execution_count": 12,
   "id": "a46c62c5-1399-4afc-9a90-edbff009f1dc",
   "metadata": {},
   "outputs": [
    {
     "name": "stdout",
     "output_type": "stream",
     "text": [
      "[[1 2 3]\n",
      " [4 5 6]\n",
      " [7 8 9]]\n"
     ]
    }
   ],
   "source": [
    "array = np.array([[1,2,3],[4,5,6],[7,8,9]])\n",
    "print(array)"
   ]
  },
  {
   "cell_type": "code",
   "execution_count": 14,
   "id": "8f2d2724-8aa8-44bd-9933-41e1376a0b21",
   "metadata": {},
   "outputs": [
    {
     "name": "stdout",
     "output_type": "stream",
     "text": [
      "True\n",
      "False\n"
     ]
    }
   ],
   "source": [
    "print([1,2,3] in array.tolist())\n",
    "print([3,4,1] in array.tolist())"
   ]
  },
  {
   "cell_type": "code",
   "execution_count": 19,
   "id": "6342c0ee-cee7-4638-abf9-253e6e46edd1",
   "metadata": {},
   "outputs": [
    {
     "name": "stdout",
     "output_type": "stream",
     "text": [
      "True\n",
      "False\n"
     ]
    }
   ],
   "source": [
    "print(2 in array)\n",
    "print(11 in array)"
   ]
  },
  {
   "cell_type": "code",
   "execution_count": 21,
   "id": "5e169631-80fb-4ac5-aaf7-ecfe2905a131",
   "metadata": {},
   "outputs": [
    {
     "data": {
      "text/plain": [
       "array([[10.5, 22.5,  3.8]])"
      ]
     },
     "execution_count": 21,
     "metadata": {},
     "output_type": "execute_result"
    }
   ],
   "source": [
    "n_arr = np.array([[10.5, 22.5, 3.8],\n",
    "                  [41, np.nan, np.nan]])\n",
    "cleaned_array = n_arr[~np.isnan(n_arr).any(axis=1)]\n",
    "cleaned_array"
   ]
  },
  {
   "cell_type": "code",
   "execution_count": null,
   "id": "7bf2e7ae-d0c0-4dc5-ac2a-21ad6343cb68",
   "metadata": {},
   "outputs": [],
   "source": []
  }
 ],
 "metadata": {
  "kernelspec": {
   "display_name": "Python 3 (ipykernel)",
   "language": "python",
   "name": "python3"
  },
  "language_info": {
   "codemirror_mode": {
    "name": "ipython",
    "version": 3
   },
   "file_extension": ".py",
   "mimetype": "text/x-python",
   "name": "python",
   "nbconvert_exporter": "python",
   "pygments_lexer": "ipython3",
   "version": "3.13.0"
  },
  "widgets": {
   "application/vnd.jupyter.widget-state+json": {
    "state": {},
    "version_major": 2,
    "version_minor": 0
   }
  }
 },
 "nbformat": 4,
 "nbformat_minor": 5
}
